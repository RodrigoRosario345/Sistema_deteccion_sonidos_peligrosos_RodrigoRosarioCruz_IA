{
 "cells": [
  {
   "cell_type": "code",
   "execution_count": 3,
   "metadata": {},
   "outputs": [
    {
     "data": {
      "text/plain": [
       "<_io.BufferedRandom name='D:/SEMESTRE 2-2023/INTELIGENCIA ARTIFICIAL 3 - SIS330/datasetSonidos/sonidos individuales recorte sonidos/sound_explosion_cort.wav'>"
      ]
     },
     "execution_count": 3,
     "metadata": {},
     "output_type": "execute_result"
    }
   ],
   "source": [
    "from pydub import AudioSegment\n",
    "\n",
    "ruta = \"D:/SEMESTRE 2-2023/INTELIGENCIA ARTIFICIAL 3 - SIS330/datasetSonidos/sonidos individuales recorte sonidos/sound_explosion.wav\"\n",
    "\n",
    "# Cargar el archivo WAV\n",
    "audio = AudioSegment.from_wav(ruta)\n",
    "\n",
    "# Cortar los primeros 30 segundos\n",
    "# 30 segundos * 1000 = 30000 milisegundos\n",
    "corte_audio = audio[:30000]\n",
    "\n",
    "# Guardar el segmento cortado en un nuevo archivo WAV\n",
    "corte_audio.export(\"D:/SEMESTRE 2-2023/INTELIGENCIA ARTIFICIAL 3 - SIS330/datasetSonidos/sonidos individuales recorte sonidos/sound_explosion_cort.wav\", format=\"wav\")\n"
   ]
  }
 ],
 "metadata": {
  "kernelspec": {
   "display_name": "Python 3",
   "language": "python",
   "name": "python3"
  },
  "language_info": {
   "codemirror_mode": {
    "name": "ipython",
    "version": 3
   },
   "file_extension": ".py",
   "mimetype": "text/x-python",
   "name": "python",
   "nbconvert_exporter": "python",
   "pygments_lexer": "ipython3",
   "version": "3.10.5"
  }
 },
 "nbformat": 4,
 "nbformat_minor": 2
}
