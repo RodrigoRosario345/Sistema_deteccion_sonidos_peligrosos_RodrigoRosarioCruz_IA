{
 "cells": [
  {
   "cell_type": "code",
   "execution_count": 1,
   "metadata": {},
   "outputs": [
    {
     "name": "stdout",
     "output_type": "stream",
     "text": [
      "Archivo convertido y guardado: D:/SEMESTRE 2-2023/INTELIGENCIA ARTIFICIAL 3 - SIS330/dataset_sonidos_completos/screaming\\scream (1).wav\n",
      "Archivo convertido y guardado: D:/SEMESTRE 2-2023/INTELIGENCIA ARTIFICIAL 3 - SIS330/dataset_sonidos_completos/screaming\\scream (10).wav\n",
      "Archivo convertido y guardado: D:/SEMESTRE 2-2023/INTELIGENCIA ARTIFICIAL 3 - SIS330/dataset_sonidos_completos/screaming\\scream (11).wav\n",
      "Archivo convertido y guardado: D:/SEMESTRE 2-2023/INTELIGENCIA ARTIFICIAL 3 - SIS330/dataset_sonidos_completos/screaming\\scream (12).wav\n",
      "Archivo convertido y guardado: D:/SEMESTRE 2-2023/INTELIGENCIA ARTIFICIAL 3 - SIS330/dataset_sonidos_completos/screaming\\scream (13).wav\n",
      "Archivo convertido y guardado: D:/SEMESTRE 2-2023/INTELIGENCIA ARTIFICIAL 3 - SIS330/dataset_sonidos_completos/screaming\\scream (14).wav\n",
      "Archivo convertido y guardado: D:/SEMESTRE 2-2023/INTELIGENCIA ARTIFICIAL 3 - SIS330/dataset_sonidos_completos/screaming\\scream (15).wav\n",
      "Archivo convertido y guardado: D:/SEMESTRE 2-2023/INTELIGENCIA ARTIFICIAL 3 - SIS330/dataset_sonidos_completos/screaming\\scream (16).wav\n",
      "Archivo convertido y guardado: D:/SEMESTRE 2-2023/INTELIGENCIA ARTIFICIAL 3 - SIS330/dataset_sonidos_completos/screaming\\scream (17).wav\n",
      "Archivo convertido y guardado: D:/SEMESTRE 2-2023/INTELIGENCIA ARTIFICIAL 3 - SIS330/dataset_sonidos_completos/screaming\\scream (18).wav\n",
      "Archivo convertido y guardado: D:/SEMESTRE 2-2023/INTELIGENCIA ARTIFICIAL 3 - SIS330/dataset_sonidos_completos/screaming\\scream (19).wav\n",
      "Archivo convertido y guardado: D:/SEMESTRE 2-2023/INTELIGENCIA ARTIFICIAL 3 - SIS330/dataset_sonidos_completos/screaming\\scream (2).wav\n",
      "Archivo convertido y guardado: D:/SEMESTRE 2-2023/INTELIGENCIA ARTIFICIAL 3 - SIS330/dataset_sonidos_completos/screaming\\scream (20).wav\n",
      "Archivo convertido y guardado: D:/SEMESTRE 2-2023/INTELIGENCIA ARTIFICIAL 3 - SIS330/dataset_sonidos_completos/screaming\\scream (21).wav\n",
      "Archivo convertido y guardado: D:/SEMESTRE 2-2023/INTELIGENCIA ARTIFICIAL 3 - SIS330/dataset_sonidos_completos/screaming\\scream (22).wav\n",
      "Archivo convertido y guardado: D:/SEMESTRE 2-2023/INTELIGENCIA ARTIFICIAL 3 - SIS330/dataset_sonidos_completos/screaming\\scream (23).wav\n",
      "Archivo convertido y guardado: D:/SEMESTRE 2-2023/INTELIGENCIA ARTIFICIAL 3 - SIS330/dataset_sonidos_completos/screaming\\scream (24).wav\n",
      "Archivo convertido y guardado: D:/SEMESTRE 2-2023/INTELIGENCIA ARTIFICIAL 3 - SIS330/dataset_sonidos_completos/screaming\\scream (25).wav\n",
      "Archivo convertido y guardado: D:/SEMESTRE 2-2023/INTELIGENCIA ARTIFICIAL 3 - SIS330/dataset_sonidos_completos/screaming\\scream (26).wav\n",
      "Archivo convertido y guardado: D:/SEMESTRE 2-2023/INTELIGENCIA ARTIFICIAL 3 - SIS330/dataset_sonidos_completos/screaming\\scream (27).wav\n",
      "Archivo convertido y guardado: D:/SEMESTRE 2-2023/INTELIGENCIA ARTIFICIAL 3 - SIS330/dataset_sonidos_completos/screaming\\scream (28).wav\n",
      "Archivo convertido y guardado: D:/SEMESTRE 2-2023/INTELIGENCIA ARTIFICIAL 3 - SIS330/dataset_sonidos_completos/screaming\\scream (29).wav\n",
      "Archivo convertido y guardado: D:/SEMESTRE 2-2023/INTELIGENCIA ARTIFICIAL 3 - SIS330/dataset_sonidos_completos/screaming\\scream (3).wav\n",
      "Archivo convertido y guardado: D:/SEMESTRE 2-2023/INTELIGENCIA ARTIFICIAL 3 - SIS330/dataset_sonidos_completos/screaming\\scream (30).wav\n",
      "Archivo convertido y guardado: D:/SEMESTRE 2-2023/INTELIGENCIA ARTIFICIAL 3 - SIS330/dataset_sonidos_completos/screaming\\scream (31).wav\n",
      "Archivo convertido y guardado: D:/SEMESTRE 2-2023/INTELIGENCIA ARTIFICIAL 3 - SIS330/dataset_sonidos_completos/screaming\\scream (32).wav\n",
      "Archivo convertido y guardado: D:/SEMESTRE 2-2023/INTELIGENCIA ARTIFICIAL 3 - SIS330/dataset_sonidos_completos/screaming\\scream (33).wav\n",
      "Archivo convertido y guardado: D:/SEMESTRE 2-2023/INTELIGENCIA ARTIFICIAL 3 - SIS330/dataset_sonidos_completos/screaming\\scream (34).wav\n",
      "Archivo convertido y guardado: D:/SEMESTRE 2-2023/INTELIGENCIA ARTIFICIAL 3 - SIS330/dataset_sonidos_completos/screaming\\scream (4).wav\n",
      "Archivo convertido y guardado: D:/SEMESTRE 2-2023/INTELIGENCIA ARTIFICIAL 3 - SIS330/dataset_sonidos_completos/screaming\\scream (5).wav\n",
      "Archivo convertido y guardado: D:/SEMESTRE 2-2023/INTELIGENCIA ARTIFICIAL 3 - SIS330/dataset_sonidos_completos/screaming\\scream (6).wav\n",
      "Archivo convertido y guardado: D:/SEMESTRE 2-2023/INTELIGENCIA ARTIFICIAL 3 - SIS330/dataset_sonidos_completos/screaming\\scream (7).wav\n",
      "Archivo convertido y guardado: D:/SEMESTRE 2-2023/INTELIGENCIA ARTIFICIAL 3 - SIS330/dataset_sonidos_completos/screaming\\scream (8).wav\n",
      "Archivo convertido y guardado: D:/SEMESTRE 2-2023/INTELIGENCIA ARTIFICIAL 3 - SIS330/dataset_sonidos_completos/screaming\\scream (9).wav\n"
     ]
    }
   ],
   "source": [
    "from pydub import AudioSegment\n",
    "import os\n",
    "\n",
    "\n",
    "# Define la ruta de la carpeta donde están los archivos .m4a\n",
    "folder_path = 'D:/SEMESTRE 2-2023/INTELIGENCIA ARTIFICIAL 3 - SIS330/dataset_sonidos_completos/screaming'  # Asegúrate de cambiar esto por la ruta correcta\n",
    "\n",
    "# Lista todos los archivos .m4a en la carpeta\n",
    "m4a_files = [file for file in os.listdir(folder_path) if file.endswith('.m4a')]\n",
    "\n",
    "# Proceso de conversión\n",
    "for m4a_file in m4a_files:\n",
    "    # Rutas completas para los archivos de entrada y salida\n",
    "    m4a_path = os.path.join(folder_path, m4a_file)\n",
    "    wav_path = os.path.join(folder_path, m4a_file.replace('.m4a', '.wav'))\n",
    "    \n",
    "    # Carga el archivo .m4a y lo exporta como .wav\n",
    "    audio = AudioSegment.from_file(m4a_path, format=\"m4a\")\n",
    "    audio.export(wav_path, format=\"wav\")\n",
    "\n",
    "    print(f'Archivo convertido y guardado: {wav_path}')\n"
   ]
  },
  {
   "cell_type": "code",
   "execution_count": 2,
   "metadata": {},
   "outputs": [
    {
     "name": "stdout",
     "output_type": "stream",
     "text": [
      "Archivo eliminado: scream (1).m4a\n",
      "Archivo eliminado: scream (10).m4a\n",
      "Archivo eliminado: scream (11).m4a\n",
      "Archivo eliminado: scream (12).m4a\n",
      "Archivo eliminado: scream (13).m4a\n",
      "Archivo eliminado: scream (14).m4a\n",
      "Archivo eliminado: scream (15).m4a\n",
      "Archivo eliminado: scream (16).m4a\n",
      "Archivo eliminado: scream (17).m4a\n",
      "Archivo eliminado: scream (18).m4a\n",
      "Archivo eliminado: scream (19).m4a\n",
      "Archivo eliminado: scream (2).m4a\n",
      "Archivo eliminado: scream (20).m4a\n",
      "Archivo eliminado: scream (21).m4a\n",
      "Archivo eliminado: scream (22).m4a\n",
      "Archivo eliminado: scream (23).m4a\n",
      "Archivo eliminado: scream (24).m4a\n",
      "Archivo eliminado: scream (25).m4a\n",
      "Archivo eliminado: scream (26).m4a\n",
      "Archivo eliminado: scream (27).m4a\n",
      "Archivo eliminado: scream (28).m4a\n",
      "Archivo eliminado: scream (29).m4a\n",
      "Archivo eliminado: scream (3).m4a\n",
      "Archivo eliminado: scream (30).m4a\n",
      "Archivo eliminado: scream (31).m4a\n",
      "Archivo eliminado: scream (32).m4a\n",
      "Archivo eliminado: scream (33).m4a\n",
      "Archivo eliminado: scream (34).m4a\n",
      "Archivo eliminado: scream (4).m4a\n",
      "Archivo eliminado: scream (5).m4a\n",
      "Archivo eliminado: scream (6).m4a\n",
      "Archivo eliminado: scream (7).m4a\n",
      "Archivo eliminado: scream (8).m4a\n",
      "Archivo eliminado: scream (9).m4a\n"
     ]
    }
   ],
   "source": [
    "import os\n",
    "\n",
    "# Define la ruta de la carpeta donde están los archivos .m4a\n",
    "folder_path = 'D:/SEMESTRE 2-2023/INTELIGENCIA ARTIFICIAL 3 - SIS330/dataset_sonidos_completos/screaming'\n",
    "\n",
    "# Lista todos los archivos .m4a en la carpeta\n",
    "m4a_files = [file for file in os.listdir(folder_path) if file.endswith('.m4a')]\n",
    "\n",
    "# Proceso de eliminación\n",
    "for m4a_file in m4a_files:\n",
    "    # Ruta completa para el archivo\n",
    "    m4a_path = os.path.join(folder_path, m4a_file)\n",
    "    \n",
    "    # Elimina el archivo\n",
    "    os.remove(m4a_path)\n",
    "\n",
    "    print(f'Archivo eliminado: {m4a_file}')\n"
   ]
  }
 ],
 "metadata": {
  "kernelspec": {
   "display_name": "Python 3",
   "language": "python",
   "name": "python3"
  },
  "language_info": {
   "codemirror_mode": {
    "name": "ipython",
    "version": 3
   },
   "file_extension": ".py",
   "mimetype": "text/x-python",
   "name": "python",
   "nbconvert_exporter": "python",
   "pygments_lexer": "ipython3",
   "version": "3.10.5"
  }
 },
 "nbformat": 4,
 "nbformat_minor": 2
}
